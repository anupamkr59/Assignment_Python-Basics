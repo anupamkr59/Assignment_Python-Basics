{
  "nbformat": 4,
  "nbformat_minor": 0,
  "metadata": {
    "colab": {
      "provenance": []
    },
    "kernelspec": {
      "name": "python3",
      "display_name": "Python 3"
    },
    "language_info": {
      "name": "python"
    }
  },
  "cells": [
    {
      "cell_type": "code",
      "execution_count": 7,
      "metadata": {
        "colab": {
          "base_uri": "https://localhost:8080/"
        },
        "collapsed": true,
        "id": "0eFT3sjb4JAu",
        "outputId": "4a2b95aa-38d8-41ba-8124-f0adc78c7bbb"
      },
      "outputs": [
        {
          "output_type": "stream",
          "name": "stdout",
          "text": [
            "<class 'str'>\n",
            "<class 'list'>\n",
            "<class 'float'>\n",
            "<class 'tuple'>\n"
          ]
        }
      ],
      "source": [
        "\"\"\"\n",
        "Q1. Create one variable containing following type of data:\n",
        "(i) string\n",
        "(ii) list\n",
        "(iii) float\n",
        "(iv) tuple\n",
        "\"\"\"\n",
        "list_cont=[\"Anupam\",[1,2,\"anupam\"],9.5,(1.2,3.5)]\n",
        "for i in list_cont:\n",
        "  print(type(i))\n"
      ]
    },
    {
      "cell_type": "markdown",
      "source": [
        "Q2. Given are some following variables containing data:\n",
        "(i) var1 = ‘ ‘\n",
        "(ii) var2 = ‘[ DS , ML , Python]’\n",
        "(iii) var3 = [ ‘DS’ , ’ML’ , ‘Python’ ]\n",
        "(iv) var4 = 1.\n",
        "What will be the data type of the above given variable.\n",
        "\n",
        "Answer:\n",
        "(i) var1 = String\n",
        "(ii) var2 = String\n",
        "(iii) var3 = Syntax Error\n",
        "(iv) var4 = int"
      ],
      "metadata": {
        "id": "LL-4XMBE8aU9"
      }
    },
    {
      "cell_type": "markdown",
      "source": [
        "Q3. Explain the use of the following operators using an example:\n",
        "(i) /\n",
        "(ii) %\n",
        "(iii) //\n",
        "(iv) **\n",
        "\n",
        "Answer:\n",
        "(i) / -> Division Operator: It is used for arithmetic calculation to get the value of quotient\n",
        "ex:-> 10/3 = 3.3333\n",
        "(ii) %-> Modulus Operator: It is used for arithmetic calculation to get the value of remainder\n",
        "ex:-> 10/3 = 1\n",
        "(iii) //->It is used to get the floor value\n",
        "ex:-> 10/3 = 3\n",
        "(iv) **->It is used for exponentiation\n",
        "ex:-> 10**3 = 1000"
      ],
      "metadata": {
        "id": "0d1e_Xei9m01"
      }
    },
    {
      "cell_type": "code",
      "source": [
        "\"\"\"\n",
        "Q4. Create a list of length 10 of your choice containing multiple types of data. Using for loop print the\n",
        "element and its data type.\n",
        "\"\"\"\n",
        "#Answer:\n",
        "list_cont=[1,23,3.3,\"Anupam\",(1,2,3),[\"kumar\",2.3],34,2.33,True,False]\n",
        "for i in list_cont:\n",
        "  print(i)\n",
        "  print(type(i))\n",
        "\n"
      ],
      "metadata": {
        "colab": {
          "base_uri": "https://localhost:8080/"
        },
        "collapsed": true,
        "id": "02t2Y1UE7mZV",
        "outputId": "37ffc9b6-2821-4683-f5e0-b83b633d18a8"
      },
      "execution_count": 14,
      "outputs": [
        {
          "output_type": "stream",
          "name": "stdout",
          "text": [
            "1\n",
            "<class 'int'>\n",
            "23\n",
            "<class 'int'>\n",
            "3.3\n",
            "<class 'float'>\n",
            "Anupam\n",
            "<class 'str'>\n",
            "(1, 2, 3)\n",
            "<class 'tuple'>\n",
            "['kumar', 2.3]\n",
            "<class 'list'>\n",
            "34\n",
            "<class 'int'>\n",
            "2.33\n",
            "<class 'float'>\n",
            "True\n",
            "<class 'bool'>\n",
            "False\n",
            "<class 'bool'>\n"
          ]
        }
      ]
    },
    {
      "cell_type": "code",
      "source": [
        "\"\"\"\n",
        "Q5. Using a while loop, verify if the number A is purely divisible by number B and if so then how many\n",
        "times it can be divisible.\n",
        "\"\"\"\n",
        "#Answer:\n",
        "A=int(input(\"Enter the value of A\"))\n",
        "B=int(input(\"Enter the value of B\"))\n",
        "if B == 0:\n",
        "  print(\"Division by 0 is not allowed\")\n",
        "else:\n",
        "  i = 0\n",
        "  while(A % B==0):\n",
        "    A =A // B\n",
        "    i = i + 1\n",
        "  print(i)\n",
        "\n",
        ""
      ],
      "metadata": {
        "colab": {
          "base_uri": "https://localhost:8080/"
        },
        "collapsed": true,
        "id": "sUkwY3FnBveF",
        "outputId": "404fef41-dabe-4ecc-8495-c2329b7ac2d6"
      },
      "execution_count": 23,
      "outputs": [
        {
          "output_type": "stream",
          "name": "stdout",
          "text": [
            "Enter the value of A64\n",
            "Enter the value of B2\n",
            "6\n"
          ]
        }
      ]
    },
    {
      "cell_type": "code",
      "source": [
        "\"\"\"\n",
        "Q6. Create a list containing 25 int type data. Using for loop and if-else condition print if the element is\n",
        "divisible by 3 or not.\n",
        "\"\"\"\n",
        "#Answer:\n",
        "numbers = [i for i in range(1,26)]\n",
        "for num in numbers:\n",
        "  if num % 3 == 0:\n",
        "    print (f\"{num} is divisible by 3\")\n",
        "  else:\n",
        "      print(f\"{num} is not divisible by 3\")\n",
        "\n"
      ],
      "metadata": {
        "colab": {
          "base_uri": "https://localhost:8080/"
        },
        "collapsed": true,
        "id": "ioeq-N6AH5Fu",
        "outputId": "407f8220-6053-4943-b0f3-0b81ea63da7d"
      },
      "execution_count": 30,
      "outputs": [
        {
          "output_type": "stream",
          "name": "stdout",
          "text": [
            "1 is not divisible by 3\n",
            "2 is not divisible by 3\n",
            "3 is divisible by 3\n",
            "4 is not divisible by 3\n",
            "5 is not divisible by 3\n",
            "6 is divisible by 3\n",
            "7 is not divisible by 3\n",
            "8 is not divisible by 3\n",
            "9 is divisible by 3\n",
            "10 is not divisible by 3\n",
            "11 is not divisible by 3\n",
            "12 is divisible by 3\n",
            "13 is not divisible by 3\n",
            "14 is not divisible by 3\n",
            "15 is divisible by 3\n",
            "16 is not divisible by 3\n",
            "17 is not divisible by 3\n",
            "18 is divisible by 3\n",
            "19 is not divisible by 3\n",
            "20 is not divisible by 3\n",
            "21 is divisible by 3\n",
            "22 is not divisible by 3\n",
            "23 is not divisible by 3\n",
            "24 is divisible by 3\n",
            "25 is not divisible by 3\n"
          ]
        }
      ]
    },
    {
      "cell_type": "markdown",
      "source": [
        "Q7. What do you understand about mutable and immutable data types? Give examples for both showing\n",
        "this property.\n",
        "Answer:\n",
        "Mutable Data Types: Data types which allows to change the value are called mutable data types such as list.\n",
        "Ex:-> List = [1,2,4,5.6,\"Anupam\"]\n",
        "Values can be changed, list[2]=7.\n",
        "New set will be List = [1,2,7,5.6,\"Anupam\"]\n",
        "\n",
        "Immutable Data Types: Data types whose values can't be changed are called immutable data types such as String.\n",
        "Ex:-> s = \"Anupam\"\n",
        "s[2]='a'\n",
        "It will give an error as String is not mutable"
      ],
      "metadata": {
        "id": "ZBQRc1vYLY2l"
      }
    },
    {
      "cell_type": "code",
      "source": [],
      "metadata": {
        "id": "epdp4cxcLBDM"
      },
      "execution_count": null,
      "outputs": []
    },
    {
      "cell_type": "code",
      "source": [],
      "metadata": {
        "id": "HxP5RieRK_Mc"
      },
      "execution_count": null,
      "outputs": []
    },
    {
      "cell_type": "code",
      "source": [],
      "metadata": {
        "id": "O0mq4FyDKqhG"
      },
      "execution_count": null,
      "outputs": []
    },
    {
      "cell_type": "code",
      "source": [],
      "metadata": {
        "id": "OpMOwUlsKkRV"
      },
      "execution_count": null,
      "outputs": []
    },
    {
      "cell_type": "code",
      "source": [],
      "metadata": {
        "id": "D29eyfObKiCK"
      },
      "execution_count": null,
      "outputs": []
    },
    {
      "cell_type": "code",
      "source": [],
      "metadata": {
        "id": "m29XB-veJDNB"
      },
      "execution_count": null,
      "outputs": []
    },
    {
      "cell_type": "code",
      "source": [],
      "metadata": {
        "id": "DEdOekXLHiIB"
      },
      "execution_count": null,
      "outputs": []
    },
    {
      "cell_type": "code",
      "source": [],
      "metadata": {
        "id": "SqJ-v8J_HcxT"
      },
      "execution_count": null,
      "outputs": []
    },
    {
      "cell_type": "code",
      "source": [],
      "metadata": {
        "id": "JUYSBBzpHTHu"
      },
      "execution_count": null,
      "outputs": []
    },
    {
      "cell_type": "code",
      "source": [],
      "metadata": {
        "id": "wmdIOkwEHPFg"
      },
      "execution_count": null,
      "outputs": []
    },
    {
      "cell_type": "code",
      "source": [],
      "metadata": {
        "id": "CQAbaeojHIwT"
      },
      "execution_count": null,
      "outputs": []
    },
    {
      "cell_type": "code",
      "source": [],
      "metadata": {
        "id": "1V6GpmKsG6iH"
      },
      "execution_count": null,
      "outputs": []
    },
    {
      "cell_type": "code",
      "source": [],
      "metadata": {
        "id": "Zn1MSCJrDoM-"
      },
      "execution_count": null,
      "outputs": []
    },
    {
      "cell_type": "code",
      "source": [],
      "metadata": {
        "id": "WAAefCEEC14b"
      },
      "execution_count": null,
      "outputs": []
    },
    {
      "cell_type": "code",
      "source": [],
      "metadata": {
        "id": "V8qZAfgcCxGN"
      },
      "execution_count": null,
      "outputs": []
    },
    {
      "cell_type": "code",
      "source": [],
      "metadata": {
        "id": "0vQHbpYpBmN_"
      },
      "execution_count": null,
      "outputs": []
    },
    {
      "cell_type": "code",
      "source": [],
      "metadata": {
        "id": "AZtvYx_EAxjN"
      },
      "execution_count": null,
      "outputs": []
    },
    {
      "cell_type": "code",
      "source": [],
      "metadata": {
        "id": "D2b31CQW7gWm"
      },
      "execution_count": null,
      "outputs": []
    },
    {
      "cell_type": "code",
      "source": [],
      "metadata": {
        "id": "fq2Wm_SU7Td-"
      },
      "execution_count": null,
      "outputs": []
    },
    {
      "cell_type": "code",
      "source": [],
      "metadata": {
        "id": "zOJqHpaa7I7y"
      },
      "execution_count": null,
      "outputs": []
    },
    {
      "cell_type": "code",
      "source": [],
      "metadata": {
        "id": "BPGwWW726fVF"
      },
      "execution_count": null,
      "outputs": []
    },
    {
      "cell_type": "markdown",
      "source": [],
      "metadata": {
        "id": "gc9uge0f5-jb"
      }
    },
    {
      "cell_type": "code",
      "source": [],
      "metadata": {
        "id": "jpWB8D_z6AIw"
      },
      "execution_count": null,
      "outputs": []
    }
  ]
}